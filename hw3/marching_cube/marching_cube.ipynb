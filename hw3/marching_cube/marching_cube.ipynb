{
 "cells": [
  {
   "cell_type": "code",
   "execution_count": 2,
   "metadata": {},
   "outputs": [],
   "source": [
    "import numpy as np\n",
    "from lookup_table import CaseNum2EdgeOffset, getCaseNum\n",
    "import trimesh\n",
    "import os\n",
    "import time"
   ]
  },
  {
   "cell_type": "code",
   "execution_count": 11,
   "metadata": {},
   "outputs": [],
   "source": [
    "def marching_cube(thres,cells):\n",
    "    # vertices use dictionary to avoid duplicate axes\n",
    "    vertex_array = {}\n",
    "    face_array = []\n",
    "    t1 = time.time()\n",
    "    # -------------------TODO------------------ \n",
    "    # compute vertices and faces\n",
    "    # vertices: [N, 3]\n",
    "    # faces: [M, 3], e.g. np.array([[0,1,2]]) means a triangle composed of vertices[0], vertices[1] and vertices[2]\n",
    "    # for-loop is allowed to reduce difficulty\n",
    "    vertex_num = 0\n",
    "    #print(cells.shape)\n",
    "    for x in range(cells.shape[0] - 1):\n",
    "        for y in range(cells.shape[1] - 1):\n",
    "            for z in range(cells.shape[2] - 1):\n",
    "                case_values = getCaseNum(x, y, z, thres, cells)\n",
    "                calulated_case_values = {}\n",
    "                vertex_idx = []\n",
    "                for case_value in case_values:\n",
    "                    if case_value == -1:\n",
    "                        continue\n",
    "                    if case_value in calulated_case_values:\n",
    "                        vertex_idx.append(calulated_case_values[case_value])\n",
    "                        if len(vertex_idx) >= 3:\n",
    "                            face_array.append([vertex_idx[-1], vertex_idx[-2], vertex_idx[-3]])\n",
    "                        continue\n",
    "\n",
    "                    v_1 = [x + CaseNum2EdgeOffset[case_value][0], y + CaseNum2EdgeOffset[case_value][1], \\\n",
    "                           z + CaseNum2EdgeOffset[case_value][2]]\n",
    "                    v_2 = [x + CaseNum2EdgeOffset[case_value][3], y + CaseNum2EdgeOffset[case_value][4], \\\n",
    "                           z + CaseNum2EdgeOffset[case_value][5]]\n",
    "                    cell_1 = cells[v_1[0]][v_1[1]][v_1[2]]\n",
    "                    cell_2 = cells[v_2[0]][v_2[1]][v_2[2]]\n",
    "                    t = (thres - cell_2) / (cell_1 - cell_2)\n",
    "                    v = [v_1[0] * t + v_2[0] * (1 - t), v_1[1] * t + v_2[1] * (1 - t), \\\n",
    "                         v_1[2] * t + v_2[2] * (1 - t)]\n",
    "                    \n",
    "                    vertex_array['{}'.format(vertex_num)] = v\n",
    "                    calulated_case_values[case_value] = vertex_num\n",
    "                    vertex_idx.append(vertex_num)\n",
    "                    vertex_num += 1\n",
    "                    if len(vertex_idx) >= 3:\n",
    "                        face_array.append([vertex_idx[-1], vertex_idx[-2], vertex_idx[-3]])\n",
    "                        #print(face_array[-1])\n",
    "    # -------------------TODO------------------ \n",
    "    t2 = time.time()\n",
    "    print(\"\\nTime taken by algorithm\\n\"+'-'*40+\"\\n{} s\".format(t2-t1))\n",
    "    vertex_array = list(vertex_array.values())\n",
    "    return np.array(vertex_array), np.array(face_array)"
   ]
  },
  {
   "cell_type": "code",
   "execution_count": 12,
   "metadata": {},
   "outputs": [
    {
     "name": "stdout",
     "output_type": "stream",
     "text": [
      "\n",
      "Time taken by algorithm\n",
      "----------------------------------------\n",
      "3.6915693283081055 s\n",
      "\n",
      "Time taken by algorithm\n",
      "----------------------------------------\n",
      "3.7124135494232178 s\n"
     ]
    }
   ],
   "source": [
    "# reconstruct these two animals\n",
    "shape_name_lst = ['spot', 'bob']\n",
    "for shape_name in shape_name_lst:\n",
    "    data = np.load(os.path.join('data', shape_name + '_cell.npy'))\n",
    "    verts, faces = marching_cube(0, data)\n",
    "    mesh = trimesh.Trimesh(vertices=verts, faces=faces)\n",
    "    mesh_txt = trimesh.exchange.obj.export_obj(mesh)\n",
    "    with open(os.path.join('../results', shape_name + '.obj'),\"w\") as fp:\n",
    "        fp.write(mesh_txt)"
   ]
  }
 ],
 "metadata": {
  "interpreter": {
   "hash": "436b5965732ccf282764bcf9546f770885eff9f048ad24ec0c34e8c61e883580"
  },
  "kernelspec": {
   "display_name": "Python 3.7.4 ('base')",
   "language": "python",
   "name": "python3"
  },
  "language_info": {
   "codemirror_mode": {
    "name": "ipython",
    "version": 3
   },
   "file_extension": ".py",
   "mimetype": "text/x-python",
   "name": "python",
   "nbconvert_exporter": "python",
   "pygments_lexer": "ipython3",
   "version": "3.10.10"
  },
  "orig_nbformat": 4
 },
 "nbformat": 4,
 "nbformat_minor": 2
}
