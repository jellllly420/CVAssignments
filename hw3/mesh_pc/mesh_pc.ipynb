{
 "cells": [
  {
   "cell_type": "code",
   "execution_count": 1,
   "metadata": {},
   "outputs": [],
   "source": [
    "import numpy as np\n",
    "import trimesh\n",
    "import tqdm "
   ]
  },
  {
   "cell_type": "code",
   "execution_count": 2,
   "metadata": {},
   "outputs": [],
   "source": [
    "def uniform_sampling_from_mesh(vertices, faces, sample_num):\n",
    "    # -------- TODO -----------\n",
    "    # 1. compute area of each triangles\n",
    "    # 2. compute probability of each triangles from areas\n",
    "    # 3. sample N faces according to the probability\n",
    "    # 4. for each face, sample 1 point\n",
    "    # Note that FOR-LOOP is not allowed!\n",
    "    v_0, v_1, v_2 = vertices[faces[:, 0], :], vertices[faces[:, 1], :], vertices[faces[:, 2], :]\n",
    "    area = np.linalg.norm(np.cross(v_1 - v_0, v_2 - v_0), axis = 1) / 2\n",
    "    prob = area / np.sum(area)\n",
    "    idx_sampled_faces = np.random.choice(faces.shape[0], size = sample_num, p = prob)\n",
    "    r_1 = np.random.uniform(0, 1, (sample_num, 1))\n",
    "    r_2 = np.random.uniform(0, 1, (sample_num, 1))\n",
    "    uniform_pc = (1 - r_1 ** 0.5) * v_0[idx_sampled_faces] + \\\n",
    "        r_1 ** 0.5 * (1 - r_2) * v_1[idx_sampled_faces] + r_1 ** 0.5 * r_2 * v_2[idx_sampled_faces]\n",
    "    # -------- TODO -----------\n",
    "    return area, prob, uniform_pc\n",
    "        "
   ]
  },
  {
   "cell_type": "code",
   "execution_count": 3,
   "metadata": {},
   "outputs": [],
   "source": [
    "def farthest_point_sampling(pc, sample_num):\n",
    "    # -------- TODO -----------\n",
    "    # FOR LOOP is allowed here.\n",
    "    idx_0 = np.random.choice(pc.shape[0], size = 1)[0]\n",
    "    p_0 = pc[idx_0]\n",
    "    results = p_0[np.newaxis, :]\n",
    "    distance_S = np.linalg.norm(p_0 - pc, axis = 1)\n",
    "    for _ in  range(sample_num - 1):\n",
    "        p_new = pc[np.argmax(distance_S)]\n",
    "        results = np.concatenate([results, p_new[np.newaxis, :]], axis = 0)\n",
    "        distance_p_new = np.linalg.norm(p_new - pc, axis = 1)\n",
    "        distance_S = np.where(distance_S > distance_p_new, distance_S, distance_p_new)\n",
    "    # -------- TODO -----------\n",
    "\n",
    "    return results"
   ]
  },
  {
   "cell_type": "code",
   "execution_count": 4,
   "metadata": {},
   "outputs": [
    {
     "name": "stdout",
     "output_type": "stream",
     "text": [
      "faces shape:  (13712, 3)\n",
      "area shape:  (13712,)\n",
      "prob shape:  (13712,)\n",
      "pc shape:  (512, 3)\n"
     ]
    }
   ],
   "source": [
    "# task 1: uniform sampling \n",
    "\n",
    "obj_path = 'spot.obj'\n",
    "mesh = trimesh.load(obj_path)\n",
    "print('faces shape: ', mesh.faces.shape)\n",
    "sample_num = 512\n",
    "area, prob, uniform_pc = uniform_sampling_from_mesh(mesh.vertices, mesh.faces, sample_num)\n",
    "\n",
    "# Visualization. For you to check your code\n",
    "np.savetxt('uniform_sampling_vis.txt', uniform_pc)\n",
    "\n",
    "print('area shape: ',area.shape)\n",
    "print('prob shape: ',prob.shape)\n",
    "print('pc shape: ',uniform_pc.shape)\n",
    "# the result should satisfy: \n",
    "#       area.shape = (13712, ) \n",
    "#       prob.shape = (13712, ) \n",
    "#       uniform_pc.shape = (512, 3) \n",
    "\n",
    "# For submission\n",
    "save_dict = {'area': area, 'prob': prob, 'pc': uniform_pc}\n",
    "np.save('../results/uniform_sampling_results', save_dict)"
   ]
  },
  {
   "cell_type": "code",
   "execution_count": 5,
   "metadata": {},
   "outputs": [],
   "source": [
    "# task 2: FPS\n",
    "\n",
    "init_sample_num = 2000\n",
    "final_sample_num = 512\n",
    "_,_, tmp_pc = uniform_sampling_from_mesh(mesh.vertices, mesh.faces, init_sample_num)\n",
    "fps_pc = farthest_point_sampling(tmp_pc, final_sample_num)\n",
    "\n",
    "# Visualization. For you to check your code\n",
    "np.savetxt('fps_vis.txt', fps_pc)\n",
    "\n",
    "# For submission\n",
    "np.save('../results/fps_results', fps_pc)"
   ]
  },
  {
   "cell_type": "code",
   "execution_count": 18,
   "metadata": {},
   "outputs": [],
   "source": [
    "# task 3: metrics\n",
    "import sys\n",
    "from earthmover.earthmover import earthmover_distance   # EMD may be very slow (1~2mins)\n",
    "# -----------TODO---------------\n",
    "# compute chamfer distance and EMD for two point clouds sampled by uniform sampling and FPS.\n",
    "# sample and compute CD and EMD again. repeat for five times.\n",
    "# save the mean and var.\n",
    "def c_d(pc_1, pc_2):\n",
    "    def one_way_chamfer_distance(pc_1, pc_2):\n",
    "        distance = np.sum((pc_1[:, np.newaxis, :] - pc_2) ** 2, axis = 2) ** 0.5\n",
    "        one_way_CD = np.sum(distance.min(axis = 1))\n",
    "        return one_way_CD\n",
    "    CD = one_way_chamfer_distance(pc_1, pc_2) + one_way_chamfer_distance(pc_2, pc_1)\n",
    "    return CD\n",
    "\n",
    "def em_d(pc_1, pc_2):\n",
    "    sto = sys.stdout\n",
    "    fd = open('/dev/null', 'w')\n",
    "    sys.stdout = fd\n",
    "    EMD = earthmover_distance(pc_1, pc_2)\n",
    "    sys.stdout = sto\n",
    "    fd.close()\n",
    "    return EMD\n",
    "\n",
    "CD, EMD = [], []\n",
    "for _ in range(5):\n",
    "    _, _, pc_1 = uniform_sampling_from_mesh(mesh.vertices, mesh.faces, final_sample_num)\n",
    "    _, _, pc_2_tmp = uniform_sampling_from_mesh(mesh.vertices, mesh.faces, init_sample_num)\n",
    "    pc_2 = farthest_point_sampling(pc_2_tmp, final_sample_num)\n",
    "    CD.append(c_d(pc_1, pc_2))\n",
    "    EMD.append(em_d([tuple(pc) for pc in pc_1.tolist()], [tuple(pc) for pc in pc_2.tolist()]))\n",
    "\n",
    "CD_mean = np.mean(CD)\n",
    "CD_var = np.var(CD)\n",
    "EMD_mean = np.mean(EMD)\n",
    "EMD_var = np.var(EMD)\n",
    "# -----------TODO---------------\n",
    "\n",
    "# For submission\n",
    "np.save('../results/metrics', {'CD_mean':CD_mean, 'CD_var':CD_var, 'EMD_mean':EMD_mean, 'EMD_var':EMD_var})"
   ]
  }
 ],
 "metadata": {
  "interpreter": {
   "hash": "b99e030e7d8517218fe5297eb937f74701cfa6fd19eb7299fb48d65d491617c9"
  },
  "kernelspec": {
   "display_name": "Python 3.7.11 ('h2o')",
   "language": "python",
   "name": "python3"
  },
  "language_info": {
   "codemirror_mode": {
    "name": "ipython",
    "version": 3
   },
   "file_extension": ".py",
   "mimetype": "text/x-python",
   "name": "python",
   "nbconvert_exporter": "python",
   "pygments_lexer": "ipython3",
   "version": "3.10.10"
  },
  "orig_nbformat": 4
 },
 "nbformat": 4,
 "nbformat_minor": 2
}
